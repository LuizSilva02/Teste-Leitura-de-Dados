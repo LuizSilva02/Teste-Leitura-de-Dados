{
  "cells": [
    {
      "cell_type": "markdown",
      "metadata": {
        "id": "view-in-github",
        "colab_type": "text"
      },
      "source": [
        "<a href=\"https://colab.research.google.com/github/LuizSilva02/Teste-Leitura-de-Dados/blob/main/LeituraDeDados.ipynb\" target=\"_parent\"><img src=\"https://colab.research.google.com/assets/colab-badge.svg\" alt=\"Open In Colab\"/></a>"
      ]
    },
    {
      "cell_type": "code",
      "execution_count": 20,
      "metadata": {
        "colab": {
          "base_uri": "https://localhost:8080/"
        },
        "id": "C4HZx7Gndbrh",
        "outputId": "98d0c8e5-a3f7-4bf9-ccf5-c656c11093d1"
      },
      "outputs": [
        {
          "name": "stdout",
          "output_type": "stream",
          "text": [
            "Drive already mounted at /content/drive; to attempt to forcibly remount, call drive.mount(\"/content/drive\", force_remount=True).\n",
            "Digite o nome do PDF que deseja extrair (ENEL SP, CEMIG, LIGHT, ELEKTRO ou COPEL): ELEKTRO\n"
          ]
        },
        {
          "output_type": "stream",
          "name": "stderr",
          "text": [
            "100%|██████████| 1/1 [05:22<00:00, 322.29s/it]\n",
            "100%|██████████| 1/1 [00:01<00:00,  1.70s/it]"
          ]
        },
        {
          "output_type": "stream",
          "name": "stdout",
          "text": [
            "Texto extraído do PDF 'ELEKTRO' e salvo como 'elektro_arquivo.txt'.\n"
          ]
        }
      ],
      "source": [
        "from google.colab import drive\n",
        "from PIL import Image\n",
        "import pytesseract\n",
        "from google.colab import files\n",
        "import os\n",
        "from tqdm import tqdm\n",
        "from deep_translator import GoogleTranslator\n",
        "from PyPDF2 import PdfReader\n",
        "\n",
        "def extrair_texto(imagem_path):\n",
        "    texto = pytesseract.image_to_string(Image.open(imagem_path))\n",
        "    return texto\n",
        "\n",
        "def extrair_texto_pdf(pdf_path):\n",
        "    texto = \"\"\n",
        "    with open(pdf_path, \"rb\") as f:\n",
        "        reader = PdfReader(f)\n",
        "        for page_num in range(len(reader.pages)):\n",
        "            page = reader.pages[page_num]\n",
        "            texto += page.extract_text()\n",
        "    return texto\n",
        "\n",
        "drive.mount('/content/drive')\n",
        "\n",
        "# Mapeamento dos nomes solicitados para os caminhos dos PDFs\n",
        "pdfs_mapping = {\n",
        "    'ENEL SP': '/content/drive/MyDrive/Teste/enel_sp.pdf',\n",
        "    'CEMIG': '/content/drive/MyDrive/Teste/cemig.pdf',\n",
        "    'LIGHT': '/content/drive/MyDrive/Teste/light.pdf',\n",
        "    'ELEKTRO': '/content/drive/MyDrive/Teste/elektro.pdf',\n",
        "    'COPEL': '/content/drive/MyDrive/Teste/copel.pdf'\n",
        "}\n",
        "\n",
        "# Solicitar ao usuário o nome do PDF desejado\n",
        "nome_solicitado = input(\"Digite o nome do PDF que deseja extrair (ENEL SP, CEMIG, LIGHT, ELEKTRO ou COPEL): \")\n",
        "\n",
        "# Verificar se o nome solicitado está no mapeamento\n",
        "if nome_solicitado in pdfs_mapping:\n",
        "    pdf_path = pdfs_mapping[nome_solicitado]\n",
        "    tradutor = GoogleTranslator(source='en', target='pt')\n",
        "\n",
        "    pbar = tqdm(total=1, position=0, leave=True)\n",
        "\n",
        "    # Extrair texto do PDF selecionado\n",
        "    dado_extraido = extrair_texto_pdf(pdf_path)\n",
        "    traducao = tradutor.translate(text=dado_extraido)\n",
        "\n",
        "    with open(f'/content/drive/MyDrive/Teste/{nome_solicitado.lower()}_arquivo.txt', 'w') as arquivo:\n",
        "        arquivo.write(traducao)\n",
        "\n",
        "    pbar.update()\n",
        "    print(f\"Texto extraído do PDF '{nome_solicitado}' e salvo como '{nome_solicitado.lower()}_arquivo.txt'.\")\n",
        "else:\n",
        "    print(\"Nome do PDF não reconhecido. Por favor, escolha entre ENEL SP, CEMIG, LIGHT, ELEKTRO ou COPEL.\")\n"
      ]
    }
  ],
  "metadata": {
    "colab": {
      "name": "Olá, este é o Colaboratory",
      "provenance": [],
      "include_colab_link": true
    },
    "kernelspec": {
      "display_name": "Python 3",
      "name": "python3"
    }
  },
  "nbformat": 4,
  "nbformat_minor": 0
}